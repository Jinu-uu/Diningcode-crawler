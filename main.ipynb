{
 "cells": [
  {
   "cell_type": "code",
   "execution_count": 57,
   "metadata": {},
   "outputs": [],
   "source": [
    "import requests\n",
    "from selenium import webdriver\n",
    "from webdriver_manager.chrome import ChromeDriverManager\n",
    "from selenium.webdriver.chrome.webdriver import WebDriver as ChromeDriver\n",
    "from selenium.webdriver.chrome.service import Service as ChromeService\n",
    "from selenium.webdriver.chrome.options import Options as ChromeOptions\n",
    "from selenium.webdriver.common.by import By\n",
    "from selenium.webdriver.support import expected_conditions as EC\n",
    "from selenium.webdriver.support.ui import WebDriverWait\n",
    "import time\n",
    "import pandas as pd\n",
    "\n",
    "SEOUL_DISTRICT = ['강남구', '강동구', '강북구', '강서구', '관악구', '광진구','구로구', \n",
    "                '금천구', '노원구', '도봉구', '동대문구', '동작구', '마포구', '서대문구',\n",
    "                '서초구', '성동구', '성북구', '송파구', '양천구', '영등포구', '용산구',\n",
    "                '은평구', '종로구', '중구', '중랑구']\n",
    "SEARCH_URL = 'https://www.diningcode.com/list.dc?query='\n",
    "DETAIL_URL = 'https://www.diningcode.com/profile.php?rid='"
   ]
  },
  {
   "cell_type": "code",
   "execution_count": 58,
   "metadata": {},
   "outputs": [
    {
     "name": "stdout",
     "output_type": "stream",
     "text": [
      "80\n"
     ]
    }
   ],
   "source": [
    "service = ChromeService(ChromeDriverManager().install())\n",
    "driver = ChromeDriver(service=service)\n",
    "driver.get(SEARCH_URL + SEOUL_DISTRICT[3])\n",
    "driver.implicitly_wait(10)\n",
    "for x in range(4): \n",
    "    driver.find_element(By.XPATH, '//*[@class=\"SearchMore upper\"]').click()\n",
    "    driver.implicitly_wait(5)\n",
    "\n",
    "test = driver.find_elements(By.XPATH, '//*[@class=\"PoiBlock\"]')\n",
    "\n",
    "restaurant_url_list = []\n",
    "for x in test:\n",
    "    restaurant_url_list.append(x.get_attribute('id').replace('block',''))\n",
    "print(len(restaurant_url_list))"
   ]
  },
  {
   "cell_type": "code",
   "execution_count": 59,
   "metadata": {},
   "outputs": [
    {
     "name": "stdout",
     "output_type": "stream",
     "text": [
      "이치류 홍대본점\n",
      "['양갈비', ' 살치살']\n",
      "573\n",
      "서울특별시 마포구 서교동 395-124\n",
      "['다코숨은맛집', ' 수요미식회', ' 미쉐린플레이트', ' 데이트', '이국적/이색적', ' 저녁식사', ' 칸막이', ' 바테이블', ' 제로페이', ' 지역화폐']\n",
      "16\n",
      "4.6점\n",
      "['맛5.0', '가격2.9', '서비스4.6']\n",
      "\n",
      "80\n",
      "6월 20일\n",
      "맛5 가격1 서비스3\n",
      "2명이 갔는데 왜 메뉴 3개 주문이 기본인 것처럼 유도하는가?\n",
      "장사도 잘 되는 집인데 왜 기본 추가 주문을 유도하는지 모르겠다.\n",
      "기분이 좀 나빴던 게 제일 처음 생각나고 그 다음이 맛있었다는 기억이다.\n",
      "그치만 가격이 매우 있으므로 다음 번에 만약 방문하게 된다면 2인분에 국수를 주문할 것 같다.\n",
      "재방문 의사는 반반이다.\n",
      "<selenium.webdriver.remote.webelement.WebElement (session=\"04614bef80a1506f84321d8e4598153e\", element=\"864f75a5-0464-4fa8-a51d-4baf1ea3d001\")>\n",
      "<selenium.webdriver.remote.webelement.WebElement (session=\"04614bef80a1506f84321d8e4598153e\", element=\"90763e39-f7fc-4af9-b327-6272ba586983\")> width: 80%;\n",
      "<selenium.webdriver.remote.webelement.WebElement (session=\"04614bef80a1506f84321d8e4598153e\", element=\"7ce5fbf9-f34b-4538-a3ab-58344ef85f2d\")> width: 80%;\n",
      "<selenium.webdriver.remote.webelement.WebElement (session=\"04614bef80a1506f84321d8e4598153e\", element=\"798c134c-c529-4230-b210-7d05c228243a\")> width: 100%;\n",
      "<selenium.webdriver.remote.webelement.WebElement (session=\"04614bef80a1506f84321d8e4598153e\", element=\"d3c895e2-4089-46ba-967a-270288da435e\")> width: 100%;\n",
      "<selenium.webdriver.remote.webelement.WebElement (session=\"04614bef80a1506f84321d8e4598153e\", element=\"8b442648-3633-4c49-b983-cbbc7f3f8780\")> width: 100%;\n",
      "<selenium.webdriver.remote.webelement.WebElement (session=\"04614bef80a1506f84321d8e4598153e\", element=\"854c1191-2fbf-4c29-93f7-fa223c8f8fbe\")> width: 100%;\n",
      "<selenium.webdriver.remote.webelement.WebElement (session=\"04614bef80a1506f84321d8e4598153e\", element=\"be5b85f1-5121-4bd2-8014-dedd418c311c\")> width: 80%;\n",
      "<selenium.webdriver.remote.webelement.WebElement (session=\"04614bef80a1506f84321d8e4598153e\", element=\"551202ca-7c19-4cc6-94f3-114070a20a91\")> width: 100%;\n",
      "<selenium.webdriver.remote.webelement.WebElement (session=\"04614bef80a1506f84321d8e4598153e\", element=\"8cef001a-fd7f-4932-b49b-d20dbca9827e\")> width: 100%;\n",
      "<selenium.webdriver.remote.webelement.WebElement (session=\"04614bef80a1506f84321d8e4598153e\", element=\"76cecc0e-d048-4084-9cf7-345684abec65\")> width: 100%;\n",
      "<selenium.webdriver.remote.webelement.WebElement (session=\"04614bef80a1506f84321d8e4598153e\", element=\"6d9ae046-dbaf-45ea-885b-d17076a527f6\")> width: 100%;\n",
      "<selenium.webdriver.remote.webelement.WebElement (session=\"04614bef80a1506f84321d8e4598153e\", element=\"628b76e2-5eb9-4f6b-a5d1-8033cffbb608\")> width: 100%;\n",
      "<selenium.webdriver.remote.webelement.WebElement (session=\"04614bef80a1506f84321d8e4598153e\", element=\"a6f01416-69f8-4d99-adaa-fddcb395d430\")> width: 100%;\n",
      "<selenium.webdriver.remote.webelement.WebElement (session=\"04614bef80a1506f84321d8e4598153e\", element=\"543f2e77-26d5-4a85-8b75-0773f659bb65\")> width: 40%;\n",
      "<selenium.webdriver.remote.webelement.WebElement (session=\"04614bef80a1506f84321d8e4598153e\", element=\"9e3d42c0-ac88-4f52-8b53-f85c6832907d\")> width: 100%;\n",
      "[<selenium.webdriver.remote.webelement.WebElement (session=\"04614bef80a1506f84321d8e4598153e\", element=\"2f1fc046-5cc3-4db4-8de0-bf657a8dec09\")>, <selenium.webdriver.remote.webelement.WebElement (session=\"04614bef80a1506f84321d8e4598153e\", element=\"5cf5916f-1df6-45c2-8e5c-3c8b0c835bb7\")>, <selenium.webdriver.remote.webelement.WebElement (session=\"04614bef80a1506f84321d8e4598153e\", element=\"91b197c2-6f66-4f40-8e21-e2d2837812e1\")>, <selenium.webdriver.remote.webelement.WebElement (session=\"04614bef80a1506f84321d8e4598153e\", element=\"81094d1d-4a5e-4a15-9db4-13305d60bcb2\")>, <selenium.webdriver.remote.webelement.WebElement (session=\"04614bef80a1506f84321d8e4598153e\", element=\"9695abd9-3bbb-4703-a141-485855ced36e\")>, <selenium.webdriver.remote.webelement.WebElement (session=\"04614bef80a1506f84321d8e4598153e\", element=\"1923e736-8f31-4d20-be29-a9cd3c692831\")>, <selenium.webdriver.remote.webelement.WebElement (session=\"04614bef80a1506f84321d8e4598153e\", element=\"a26372ad-ecc7-4876-97b9-8f67c3423a3b\")>, <selenium.webdriver.remote.webelement.WebElement (session=\"04614bef80a1506f84321d8e4598153e\", element=\"baf18da9-a974-4300-be69-2d8ea4bf2371\")>, <selenium.webdriver.remote.webelement.WebElement (session=\"04614bef80a1506f84321d8e4598153e\", element=\"7834ec17-114c-42e3-96dc-82d2fefd9050\")>, <selenium.webdriver.remote.webelement.WebElement (session=\"04614bef80a1506f84321d8e4598153e\", element=\"77a540d3-4587-4f47-b641-82d14fccf7cc\")>, <selenium.webdriver.remote.webelement.WebElement (session=\"04614bef80a1506f84321d8e4598153e\", element=\"856fa407-87f1-4f4b-9f09-7b11b4c2cb39\")>, <selenium.webdriver.remote.webelement.WebElement (session=\"04614bef80a1506f84321d8e4598153e\", element=\"8c8dccb1-1f26-45c9-b5cb-9d057dca9df0\")>, <selenium.webdriver.remote.webelement.WebElement (session=\"04614bef80a1506f84321d8e4598153e\", element=\"d49acfd7-fc76-40da-a4af-df514d2faa11\")>, <selenium.webdriver.remote.webelement.WebElement (session=\"04614bef80a1506f84321d8e4598153e\", element=\"d973d740-a4ca-469e-8bae-cefb2d10a1e9\")>, <selenium.webdriver.remote.webelement.WebElement (session=\"04614bef80a1506f84321d8e4598153e\", element=\"21420991-0245-4240-b7da-867f1bec1da8\")>]\n",
      "[<selenium.webdriver.remote.webelement.WebElement (session=\"04614bef80a1506f84321d8e4598153e\", element=\"219b7e65-f078-44e4-adc2-70d6c4d279e0\")>, <selenium.webdriver.remote.webelement.WebElement (session=\"04614bef80a1506f84321d8e4598153e\", element=\"895f4081-a2ee-47bd-846c-aa91e26edaf7\")>, <selenium.webdriver.remote.webelement.WebElement (session=\"04614bef80a1506f84321d8e4598153e\", element=\"3632c1c8-a825-4fc7-9a68-cef5d0014b95\")>, <selenium.webdriver.remote.webelement.WebElement (session=\"04614bef80a1506f84321d8e4598153e\", element=\"c8d409ea-402b-4e11-9291-357aa4342b9c\")>, <selenium.webdriver.remote.webelement.WebElement (session=\"04614bef80a1506f84321d8e4598153e\", element=\"12db5cbb-03a6-4600-8636-ab22af6a288f\")>, <selenium.webdriver.remote.webelement.WebElement (session=\"04614bef80a1506f84321d8e4598153e\", element=\"87819fa3-d4df-45a3-b420-de2ca42ed74a\")>, <selenium.webdriver.remote.webelement.WebElement (session=\"04614bef80a1506f84321d8e4598153e\", element=\"4093d999-f597-49f4-a401-95ee7d0288eb\")>, <selenium.webdriver.remote.webelement.WebElement (session=\"04614bef80a1506f84321d8e4598153e\", element=\"5b58c269-e349-4187-9d90-e14cd21e4958\")>, <selenium.webdriver.remote.webelement.WebElement (session=\"04614bef80a1506f84321d8e4598153e\", element=\"4e905fca-f80b-47c4-b4b7-a64e435f0496\")>, <selenium.webdriver.remote.webelement.WebElement (session=\"04614bef80a1506f84321d8e4598153e\", element=\"5e9ddbe5-e3ed-4f64-97a9-96a2ebd62041\")>, <selenium.webdriver.remote.webelement.WebElement (session=\"04614bef80a1506f84321d8e4598153e\", element=\"8cc5b280-baf7-430b-b001-13c31b16e5fb\")>, <selenium.webdriver.remote.webelement.WebElement (session=\"04614bef80a1506f84321d8e4598153e\", element=\"625e25b4-a617-4fbd-a448-4ae9aacec7a9\")>]\n",
      "[<selenium.webdriver.remote.webelement.WebElement (session=\"04614bef80a1506f84321d8e4598153e\", element=\"864f75a5-0464-4fa8-a51d-4baf1ea3d001\")>, <selenium.webdriver.remote.webelement.WebElement (session=\"04614bef80a1506f84321d8e4598153e\", element=\"bca87013-7162-4c1c-9168-2c8ad70594bb\")>, <selenium.webdriver.remote.webelement.WebElement (session=\"04614bef80a1506f84321d8e4598153e\", element=\"57854a5c-c565-4ed2-905b-3c48df6b19b4\")>, <selenium.webdriver.remote.webelement.WebElement (session=\"04614bef80a1506f84321d8e4598153e\", element=\"5ae2a110-eab6-406d-b432-7554d20f6102\")>, <selenium.webdriver.remote.webelement.WebElement (session=\"04614bef80a1506f84321d8e4598153e\", element=\"90632ada-bfa7-4a35-ad8a-af44bf66c73b\")>, <selenium.webdriver.remote.webelement.WebElement (session=\"04614bef80a1506f84321d8e4598153e\", element=\"2294cc08-3a8d-4e9d-b8ba-6b65da65b22c\")>, <selenium.webdriver.remote.webelement.WebElement (session=\"04614bef80a1506f84321d8e4598153e\", element=\"c39a4f44-29de-4f00-86cf-ef9449c5f351\")>, <selenium.webdriver.remote.webelement.WebElement (session=\"04614bef80a1506f84321d8e4598153e\", element=\"f373dee2-fb28-45e2-9de0-50435bd490f3\")>, <selenium.webdriver.remote.webelement.WebElement (session=\"04614bef80a1506f84321d8e4598153e\", element=\"9b355a2e-8bd0-48c9-aa41-1a988a269ab8\")>, <selenium.webdriver.remote.webelement.WebElement (session=\"04614bef80a1506f84321d8e4598153e\", element=\"f2ab5e82-072a-433c-bd2b-f71e0ef2ba7b\")>, <selenium.webdriver.remote.webelement.WebElement (session=\"04614bef80a1506f84321d8e4598153e\", element=\"d68a2fbb-b8bb-44bd-b277-9eb14b43ebbd\")>, <selenium.webdriver.remote.webelement.WebElement (session=\"04614bef80a1506f84321d8e4598153e\", element=\"95d9eec3-870b-4ad6-8059-731139ed7b0d\")>, <selenium.webdriver.remote.webelement.WebElement (session=\"04614bef80a1506f84321d8e4598153e\", element=\"b511fc2f-39a4-4fcf-b7a9-fd9eb0dae7b0\")>, <selenium.webdriver.remote.webelement.WebElement (session=\"04614bef80a1506f84321d8e4598153e\", element=\"3ad4f714-162c-4aff-84c8-3effd7c4a427\")>, <selenium.webdriver.remote.webelement.WebElement (session=\"04614bef80a1506f84321d8e4598153e\", element=\"f919df1a-793e-4f7a-a40f-65da914da9dd\")>]\n"
     ]
    }
   ],
   "source": [
    "import re\n",
    "\n",
    "service = ChromeService(ChromeDriverManager().install())\n",
    "driver = ChromeDriver(service=service)\n",
    "driver.get(\"https://www.diningcode.com/profile.php?rid=y9RhFa4oaJV1\")\n",
    "\n",
    "restaurant_name = driver.find_elements(By.XPATH, '//*[@class=\"s-list pic-grade\"]//*[@class=\"tit-point\"]//*[@class=\"tit\"]')[0].text\n",
    "restaurant_type = driver.find_elements(By.XPATH, '//*[@class=\"s-list pic-grade\"]//*[@class=\"btxt\"]')[0].text.split('|')[1].strip().split(',')\n",
    "restaurant_like = driver.find_elements(By.XPATH, '//*[@class=\"favor-pic-appra\"]//*[@class=\"favor\"]/*//*[@class=\"num\"]')[0].text\n",
    "\n",
    "restaurant_location = driver.find_elements(By.XPATH, '//*[@class=\"locat\"]')[0].text\n",
    "restaurant_tag = driver.find_elements(By.XPATH, '//*[@class=\"tag\"]')[0].text.split(',') + driver.find_elements(By.XPATH, '//*[@class=\"char\"]')[0].text.split(',')\n",
    "\n",
    "re_num = re.compile(r'\\d+')\n",
    "\n",
    "restaurant_total_score_count = int(re_num.findall(driver.find_elements(By.XPATH, '//*[@class=\"s-list appraisal\"]//*[@class=\"tit\"]')[0].text)[0])\n",
    "restaurant_total_score = driver.find_elements(By.XPATH, '//*[@class=\"grade-info\"]//*[@class=\"star-point\"]//*[@class=\"point\"]')[0].text\n",
    "restaurant_total_score_detail = driver.find_elements(By.XPATH, '//*[@class=\"grade-info\"]//*[@class=\"point-detail\"]')[0].text.split(' ')\n",
    "\n",
    "print(restaurant_name)\n",
    "print(restaurant_type)\n",
    "print(restaurant_like)\n",
    "print(restaurant_location)\n",
    "print(restaurant_tag)\n",
    "print(restaurant_total_score_count)\n",
    "print(restaurant_total_score)\n",
    "print(restaurant_total_score_detail)\n",
    "\n",
    "print()\n",
    "\n",
    "print(int(re_num.findall(driver.find_elements(By.XPATH, '//*[@id=\"div_review\"]//*[@class=\"latter-graph\"]//*[@class=\"person-grade\"]//*[@class=\"star-date\"]/*[1]/*[1]')[0].get_attribute('style'))[0]))\n",
    "print(driver.find_elements(By.XPATH, '//*[@id=\"div_review\"]//*[@class=\"latter-graph\"]//*[@class=\"person-grade\"]//*[@class=\"star-date\"]/*[2]')[0].text)\n",
    "print(driver.find_elements(By.XPATH, '//*[@id=\"div_review\"]//*[@class=\"latter-graph\"]//*[@class=\"point-detail\"]')[0].text)\n",
    "print(driver.find_elements(By.XPATH, '//*[@id=\"div_review\"]//*[@class=\"latter-graph\"]//*[@class=\"review_contents btxt\"]')[0].text)\n",
    "\n",
    "\n",
    "while(True):\n",
    "    driver.implicitly_wait(10)\n",
    "    view_more = driver.find_elements(By.XPATH, '//*[@id=\"div_more_review\"]')\n",
    "    if len(view_more) == 0: \n",
    "        break\n",
    "    view_more[0].click()\n",
    "\n",
    "review_area = driver.find_elements(By.XPATH, '//*[@class=\"latter-graph\"]')\n",
    "\n",
    "print(review_area[0].find_element(By.XPATH, '//*[@class=\"review_contents btxt\"]'))\n",
    "\n",
    "\n",
    "review_score_list = driver.find_elements(By.XPATH, '//*[@id=\"div_review\"]//*[@class=\"latter-graph\"]//*[@class=\"person-grade\"]//*[@class=\"star-date\"]/*[1]/*[1]')\n",
    "for i in range(len(review_score_list)):\n",
    "    print(review_score_list[i], review_score_list[i].get_attribute('style'))\n",
    "    review_score_list[i] = int(re_num.findall(review_score_list[i].get_attribute('style'))[0])/20\n",
    "\n",
    "review_score_date_list = driver.find_elements(By.XPATH, '//*[@id=\"div_review\"]//*[@class=\"latter-graph\"]//*[@class=\"person-grade\"]//*[@class=\"star-date\"]/*[2]')\n",
    "review_score_detail_list = driver.find_elements(By.XPATH, '//*[@id=\"div_review\"]//*[@class=\"latter-graph\"]//*[@class=\"point-detail\"]')\n",
    "review_list = driver.find_elements(By.XPATH, '//*[@id=\"div_review\"]//*[@class=\"latter-graph\"]//*[@class=\"review_contents btxt\"]')\n",
    "\n",
    "print(review_score_date_list)\n",
    "print(review_score_detail_list)\n",
    "print(review_list)\n",
    "\n",
    "# review_list = driver.find_elements(By.XPATH, '//*[@class=\"review_contents btxt\"]')\n",
    "# print(len(review_list))\n",
    "# review_list[0].text"
   ]
  },
  {
   "cell_type": "code",
   "execution_count": 60,
   "metadata": {},
   "outputs": [
    {
     "name": "stdout",
     "output_type": "stream",
     "text": [
      "['ID']\n"
     ]
    }
   ],
   "source": [
    "def get_hdf_keys(dir):\n",
    "    with pd.HDFStore(dir) as store:\n",
    "        return [e[1:] for e in store.keys()]\n",
    "\n",
    "dir = 'diningcode.h5'\n",
    "print(get_hdf_keys(dir))"
   ]
  },
  {
   "cell_type": "code",
   "execution_count": 61,
   "metadata": {},
   "outputs": [
    {
     "data": {
      "text/html": [
       "<div>\n",
       "<style scoped>\n",
       "    .dataframe tbody tr th:only-of-type {\n",
       "        vertical-align: middle;\n",
       "    }\n",
       "\n",
       "    .dataframe tbody tr th {\n",
       "        vertical-align: top;\n",
       "    }\n",
       "\n",
       "    .dataframe thead th {\n",
       "        text-align: right;\n",
       "    }\n",
       "</style>\n",
       "<table border=\"1\" class=\"dataframe\">\n",
       "  <thead>\n",
       "    <tr style=\"text-align: right;\">\n",
       "      <th></th>\n",
       "      <th>id</th>\n",
       "    </tr>\n",
       "  </thead>\n",
       "  <tbody>\n",
       "    <tr>\n",
       "      <th>0</th>\n",
       "      <td>PYk33Cv6jpwY</td>\n",
       "    </tr>\n",
       "    <tr>\n",
       "      <th>1</th>\n",
       "      <td>yJWYroWneBZz</td>\n",
       "    </tr>\n",
       "    <tr>\n",
       "      <th>2</th>\n",
       "      <td>VT9sxn0135MR</td>\n",
       "    </tr>\n",
       "    <tr>\n",
       "      <th>3</th>\n",
       "      <td>Dw5rZ87WVOLS</td>\n",
       "    </tr>\n",
       "    <tr>\n",
       "      <th>4</th>\n",
       "      <td>WDLc5zBWbJ0K</td>\n",
       "    </tr>\n",
       "    <tr>\n",
       "      <th>...</th>\n",
       "      <td>...</td>\n",
       "    </tr>\n",
       "    <tr>\n",
       "      <th>2015</th>\n",
       "      <td>sXK6enV9ZtM5</td>\n",
       "    </tr>\n",
       "    <tr>\n",
       "      <th>2016</th>\n",
       "      <td>LbWnb0HoYUed</td>\n",
       "    </tr>\n",
       "    <tr>\n",
       "      <th>2017</th>\n",
       "      <td>kNzzUrTNcUvV</td>\n",
       "    </tr>\n",
       "    <tr>\n",
       "      <th>2018</th>\n",
       "      <td>8R0TIaN22RVT</td>\n",
       "    </tr>\n",
       "    <tr>\n",
       "      <th>2019</th>\n",
       "      <td>7qEcg8hRqzDC</td>\n",
       "    </tr>\n",
       "  </tbody>\n",
       "</table>\n",
       "<p>2020 rows × 1 columns</p>\n",
       "</div>"
      ],
      "text/plain": [
       "                id\n",
       "0     PYk33Cv6jpwY\n",
       "1     yJWYroWneBZz\n",
       "2     VT9sxn0135MR\n",
       "3     Dw5rZ87WVOLS\n",
       "4     WDLc5zBWbJ0K\n",
       "...            ...\n",
       "2015  sXK6enV9ZtM5\n",
       "2016  LbWnb0HoYUed\n",
       "2017  kNzzUrTNcUvV\n",
       "2018  8R0TIaN22RVT\n",
       "2019  7qEcg8hRqzDC\n",
       "\n",
       "[2020 rows x 1 columns]"
      ]
     },
     "execution_count": 61,
     "metadata": {},
     "output_type": "execute_result"
    }
   ],
   "source": [
    "cpu_df = pd.read_hdf(dir,'ID')\n",
    "cpu_df"
   ]
  },
  {
   "cell_type": "code",
   "execution_count": null,
   "metadata": {},
   "outputs": [],
   "source": []
  }
 ],
 "metadata": {
  "kernelspec": {
   "display_name": "Python 3.8.13 ('crawling')",
   "language": "python",
   "name": "python3"
  },
  "language_info": {
   "codemirror_mode": {
    "name": "ipython",
    "version": 3
   },
   "file_extension": ".py",
   "mimetype": "text/x-python",
   "name": "python",
   "nbconvert_exporter": "python",
   "pygments_lexer": "ipython3",
   "version": "3.8.13"
  },
  "orig_nbformat": 4,
  "vscode": {
   "interpreter": {
    "hash": "aef0c95f92607e0e2b724901a4c0fbef911cc298fb1f564c21c1a6b566a1185d"
   }
  }
 },
 "nbformat": 4,
 "nbformat_minor": 2
}
